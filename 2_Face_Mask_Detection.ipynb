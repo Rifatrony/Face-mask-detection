{
  "nbformat": 4,
  "nbformat_minor": 0,
  "metadata": {
    "colab": {
      "name": "2 Face Mask Detection.ipynb",
      "provenance": [],
      "collapsed_sections": [],
      "authorship_tag": "ABX9TyOb2oHpXrB0oPZPLxOODn7M",
      "include_colab_link": true
    },
    "kernelspec": {
      "name": "python3",
      "display_name": "Python 3"
    },
    "language_info": {
      "name": "python"
    }
  },
  "cells": [
    {
      "cell_type": "markdown",
      "metadata": {
        "id": "view-in-github",
        "colab_type": "text"
      },
      "source": [
        "<a href=\"https://colab.research.google.com/github/Rifatrony/Face-mask-detection/blob/main/2_Face_Mask_Detection.ipynb\" target=\"_parent\"><img src=\"https://colab.research.google.com/assets/colab-badge.svg\" alt=\"Open In Colab\"/></a>"
      ]
    },
    {
      "cell_type": "code",
      "metadata": {
        "id": "Zv3UPvrALsxr"
      },
      "source": [
        ""
      ],
      "execution_count": null,
      "outputs": []
    },
    {
      "cell_type": "code",
      "metadata": {
        "id": "ECBEH813cHv0",
        "colab": {
          "base_uri": "https://localhost:8080/",
          "height": 361
        },
        "outputId": "0e1075dd-7537-48df-d433-0395c65bc604"
      },
      "source": [
        "#import necessary libraries\n",
        "from keras.models import load_model\n",
        "import cv2\n",
        "import numpy as np\n",
        "import tkinter\n",
        "\n",
        "from tkinter import messagebox\n",
        "import smtplib\n",
        "\n",
        "#Initialize tkinter\n",
        "root=tkinter.Tk()\n",
        "root.withdraw()\n",
        "\n",
        "\n",
        "# load train deep learning model\n",
        "model = load_model('Face_mask_detection_system.h5')\n",
        "\n",
        "#classifier to detect the face\n",
        "face_det_classifier = cv2.CascadeClassifier('haarcascade_frontalface_default.xml')\n",
        "\n",
        "# Capture video\n",
        "vid_source = cv2.VideoCapture(0)\n",
        "\n",
        "\n",
        "\n",
        "text_dict={0:'Mask ON',1:'No Mask'}\n",
        "rect_color_dict={0:(0,255,0),1:(0,0,225)}\n",
        "\n",
        "SUBJECT = \"Subject\"\n",
        "TEXT = \"One visitor Face Mask Policy. See in the camera to recognize user.\"\n",
        "\n",
        "while(True):\n",
        "    ret, img = vid_source.read()\n",
        "    grayscale_img = cv2.cvtColor(img,cv2.COLOR_BRG2GRAY)\n",
        "    faces = face_det_classifier.detectMultiScale(grayscale_img,1.3,5)\n",
        "    \n",
        "    for(x,y,w,h) in faces:\n",
        "        face_img = grayscale_img[y:y+w,x:x+w]\n",
        "        resized_img = cv2.resize(face_img,(112,112))\n",
        "        normalized_img = resized_img/255.0\n",
        "        reshaped_img = np.reshape(normalized_img,(1,112,112,1))\n",
        "        result=model.predict(reshaped_img)\n",
        "        \n",
        "        label=np.argmax(result,axis=1)[0]\n",
        "        \n",
        "        cv2.rectangle(img,(x,y),(x+w,y+h),rect_color_dict[label],2)\n",
        "        cv2.rectangle(img,(x,y-40),(x+w,y),rect_color_dict[label],-1)\n",
        "        cv2.putText(img, text_dict[label], (x, y-10),cv2.FONT_HERSHEY_SIMPLEX,0.8,(0,0,0),2)\n",
        "        \n",
        "        \n",
        "        \n",
        "        if (label == 1):\n",
        "            \n",
        "            messagebox.showwarning(\"Warning\",\"Access Denied. Please wear a Face Mask\")\n",
        "            \n",
        "            message = 'Subject: {}\\n\\n{}'.format(SUBJECT, TEXT)\n",
        "            mail = smtplib.SMTP('smtp.gmail.com',587)\n",
        "            mail.eclo()\n",
        "            mail.starttls()\n",
        "            mail.login('id18103088@gmail.com','8Zeka7SB')\n",
        "            mail.sendmail('id18103088@gmail.com','id18103088@gmail.com',message)\n",
        "            mail.close\n",
        "            \n",
        "        else:\n",
        "            pass\n",
        "            break\n",
        "            \n",
        "    cv2.imshow('LIVE Video Feed',img)\n",
        "    key=cv2.waitKey(1)\n",
        "    if(key==27):\n",
        "        break\n",
        "        \n",
        "cv.destroyAllWindows()\n",
        "source.release()\n",
        "        \n",
        "        \n",
        "        \n"
      ],
      "execution_count": null,
      "outputs": [
        {
          "output_type": "error",
          "ename": "TclError",
          "evalue": "ignored",
          "traceback": [
            "\u001b[0;31m---------------------------------------------------------------------------\u001b[0m",
            "\u001b[0;31mTclError\u001b[0m                                  Traceback (most recent call last)",
            "\u001b[0;32m<ipython-input-2-d9dbcdfc48f7>\u001b[0m in \u001b[0;36m<module>\u001b[0;34m()\u001b[0m\n\u001b[1;32m      9\u001b[0m \u001b[0;34m\u001b[0m\u001b[0m\n\u001b[1;32m     10\u001b[0m \u001b[0;31m#Initialize tkinter\u001b[0m\u001b[0;34m\u001b[0m\u001b[0;34m\u001b[0m\u001b[0;34m\u001b[0m\u001b[0m\n\u001b[0;32m---> 11\u001b[0;31m \u001b[0mroot\u001b[0m\u001b[0;34m=\u001b[0m\u001b[0mtkinter\u001b[0m\u001b[0;34m.\u001b[0m\u001b[0mTk\u001b[0m\u001b[0;34m(\u001b[0m\u001b[0;34m)\u001b[0m\u001b[0;34m\u001b[0m\u001b[0;34m\u001b[0m\u001b[0m\n\u001b[0m\u001b[1;32m     12\u001b[0m \u001b[0mroot\u001b[0m\u001b[0;34m.\u001b[0m\u001b[0mwithdraw\u001b[0m\u001b[0;34m(\u001b[0m\u001b[0;34m)\u001b[0m\u001b[0;34m\u001b[0m\u001b[0;34m\u001b[0m\u001b[0m\n\u001b[1;32m     13\u001b[0m \u001b[0;34m\u001b[0m\u001b[0m\n",
            "\u001b[0;32m/usr/lib/python3.7/tkinter/__init__.py\u001b[0m in \u001b[0;36m__init__\u001b[0;34m(self, screenName, baseName, className, useTk, sync, use)\u001b[0m\n\u001b[1;32m   2021\u001b[0m                 \u001b[0mbaseName\u001b[0m \u001b[0;34m=\u001b[0m \u001b[0mbaseName\u001b[0m \u001b[0;34m+\u001b[0m \u001b[0mext\u001b[0m\u001b[0;34m\u001b[0m\u001b[0;34m\u001b[0m\u001b[0m\n\u001b[1;32m   2022\u001b[0m         \u001b[0minteractive\u001b[0m \u001b[0;34m=\u001b[0m \u001b[0;36m0\u001b[0m\u001b[0;34m\u001b[0m\u001b[0;34m\u001b[0m\u001b[0m\n\u001b[0;32m-> 2023\u001b[0;31m         \u001b[0mself\u001b[0m\u001b[0;34m.\u001b[0m\u001b[0mtk\u001b[0m \u001b[0;34m=\u001b[0m \u001b[0m_tkinter\u001b[0m\u001b[0;34m.\u001b[0m\u001b[0mcreate\u001b[0m\u001b[0;34m(\u001b[0m\u001b[0mscreenName\u001b[0m\u001b[0;34m,\u001b[0m \u001b[0mbaseName\u001b[0m\u001b[0;34m,\u001b[0m \u001b[0mclassName\u001b[0m\u001b[0;34m,\u001b[0m \u001b[0minteractive\u001b[0m\u001b[0;34m,\u001b[0m \u001b[0mwantobjects\u001b[0m\u001b[0;34m,\u001b[0m \u001b[0museTk\u001b[0m\u001b[0;34m,\u001b[0m \u001b[0msync\u001b[0m\u001b[0;34m,\u001b[0m \u001b[0muse\u001b[0m\u001b[0;34m)\u001b[0m\u001b[0;34m\u001b[0m\u001b[0;34m\u001b[0m\u001b[0m\n\u001b[0m\u001b[1;32m   2024\u001b[0m         \u001b[0;32mif\u001b[0m \u001b[0museTk\u001b[0m\u001b[0;34m:\u001b[0m\u001b[0;34m\u001b[0m\u001b[0;34m\u001b[0m\u001b[0m\n\u001b[1;32m   2025\u001b[0m             \u001b[0mself\u001b[0m\u001b[0;34m.\u001b[0m\u001b[0m_loadtk\u001b[0m\u001b[0;34m(\u001b[0m\u001b[0;34m)\u001b[0m\u001b[0;34m\u001b[0m\u001b[0;34m\u001b[0m\u001b[0m\n",
            "\u001b[0;31mTclError\u001b[0m: no display name and no $DISPLAY environment variable"
          ]
        }
      ]
    }
  ]
}