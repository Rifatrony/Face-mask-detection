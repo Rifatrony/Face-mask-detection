{
  "nbformat": 4,
  "nbformat_minor": 0,
  "metadata": {
    "colab": {
      "name": "Face Mask Detection.ipynb",
      "provenance": [],
      "collapsed_sections": [],
      "mount_file_id": "1DTjMXHOPB2IBDDJYHvftmONp_qsvMbSK",
      "authorship_tag": "ABX9TyMwI93CZZYcZkH99nZoXTVo",
      "include_colab_link": true
    },
    "kernelspec": {
      "name": "python3",
      "display_name": "Python 3"
    },
    "language_info": {
      "name": "python"
    },
    "accelerator": "GPU"
  },
  "cells": [
    {
      "cell_type": "markdown",
      "metadata": {
        "id": "view-in-github",
        "colab_type": "text"
      },
      "source": [
        "<a href=\"https://colab.research.google.com/github/Rifatrony/Face-mask-detection/blob/main/Face_Mask_Detection.ipynb\" target=\"_parent\"><img src=\"https://colab.research.google.com/assets/colab-badge.svg\" alt=\"Open In Colab\"/></a>"
      ]
    },
    {
      "cell_type": "code",
      "metadata": {
        "id": "QCBv4ei-Qp9T",
        "colab": {
          "base_uri": "https://localhost:8080/"
        },
        "outputId": "3a8543dd-2ad3-4a10-85b2-318943333dd3"
      },
      "source": [
        "!echo 'Installing required software'\n",
        "!apt-get install -y -qq software-properties-common module-init-tools 2>&1 > /dev/null\n",
        "!echo 'Add apt-repository with Google.Drive Fuse'\n",
        "!add-apt-repository -y ppa:alessandro-strada/ppa 2>&1 > /dev/null\n",
        "!echo 'Updating packages...'\n",
        "!apt-get update -y -qq\n",
        "!echo 'Installing google-drive-ocamlfuse fuse...'\n",
        "!apt-get install -y -qq google-drive-ocamlfuse fuse\n",
        "!echo 'Authenticate Fuse in Google.Drive...'\n",
        "from google.colab import auth\n",
        "from oauth2client.client import GoogleCredentials\n",
        "import getpass\n",
        "auth.authenticate_user()\n",
        "creds = GoogleCredentials.get_application_default()\n",
        "!google-drive-ocamlfuse -headless -id={creds.client_id} -secret={creds.client_secret} < /dev/null 2>&1 | grep URL\n",
        "vcode = getpass.getpass('Enter auth code here: ')\n",
        "!echo {vcode} | google-drive-ocamlfuse -headless -id={creds.client_id} -secret={creds.client_secret}\\"
      ],
      "execution_count": null,
      "outputs": [
        {
          "output_type": "stream",
          "text": [
            "Installing required software\n",
            "Add apt-repository with Google.Drive Fuse\n",
            "Updating packages...\n",
            "Installing google-drive-ocamlfuse fuse...\n",
            "Selecting previously unselected package google-drive-ocamlfuse.\n",
            "(Reading database ... 160837 files and directories currently installed.)\n",
            "Preparing to unpack .../google-drive-ocamlfuse_0.7.26-0ubuntu1~ubuntu18.04.1_amd64.deb ...\n",
            "Unpacking google-drive-ocamlfuse (0.7.26-0ubuntu1~ubuntu18.04.1) ...\n",
            "Setting up google-drive-ocamlfuse (0.7.26-0ubuntu1~ubuntu18.04.1) ...\n",
            "Processing triggers for man-db (2.8.3-2ubuntu0.1) ...\n",
            "Authenticate Fuse in Google.Drive...\n",
            "Please, open the following URL in a web browser: https://accounts.google.com/o/oauth2/auth?client_id=32555940559.apps.googleusercontent.com&redirect_uri=urn%3Aietf%3Awg%3Aoauth%3A2.0%3Aoob&scope=https%3A%2F%2Fwww.googleapis.com%2Fauth%2Fdrive&response_type=code&access_type=offline&approval_prompt=force\n",
            "Enter auth code here: ··········\n",
            "Please, open the following URL in a web browser: https://accounts.google.com/o/oauth2/auth?client_id=32555940559.apps.googleusercontent.com&redirect_uri=urn%3Aietf%3Awg%3Aoauth%3A2.0%3Aoob&scope=https%3A%2F%2Fwww.googleapis.com%2Fauth%2Fdrive&response_type=code&access_type=offline&approval_prompt=force\n",
            "Please enter the verification code: Cannot retrieve auth tokens.\n",
            "Failure(\"Unexpected error response: {\\n  \\\"error\\\": \\\"invalid_grant\\\",\\n  \\\"error_description\\\": \\\"Bad Request\\\"\\n}\")\n"
          ],
          "name": "stdout"
        }
      ]
    },
    {
      "cell_type": "code",
      "metadata": {
        "id": "F0L1m-Ev7p2G",
        "colab": {
          "base_uri": "https://localhost:8080/"
        },
        "outputId": "c2952a45-1105-43b2-e362-fc06580f70aa"
      },
      "source": [
        "#Mount the google Drive\n",
        "from google.colab import drive\n",
        "drive.mount('/content/drive')"
      ],
      "execution_count": null,
      "outputs": [
        {
          "output_type": "stream",
          "text": [
            "Mounted at /content/drive\n"
          ],
          "name": "stdout"
        }
      ]
    },
    {
      "cell_type": "code",
      "metadata": {
        "id": "vtQrITKO8Sae",
        "colab": {
          "base_uri": "https://localhost:8080/"
        },
        "outputId": "656ec13c-3076-42f2-aad9-4510344ff0c0"
      },
      "source": [
        "#Import necessary Libraries\n",
        "import os\n",
        "#Set directory path for Dataset\n",
        "os.chdir(\"/content/drive/MyDrive/Face Mask Detection\")\n",
        "Dataset='Dataset'\n",
        "Data_Dir=os.listdir(Dataset)\n",
        "print(Data_Dir)"
      ],
      "execution_count": null,
      "outputs": [
        {
          "output_type": "stream",
          "text": [
            "['with_mask', 'without_mask']\n"
          ],
          "name": "stdout"
        }
      ]
    },
    {
      "cell_type": "code",
      "metadata": {
        "id": "2eYQ64Uoc-V5",
        "colab": {
          "base_uri": "https://localhost:8080/",
          "height": 238
        },
        "outputId": "de3053f8-6470-4b56-c568-638f8ec3e097"
      },
      "source": [
        "#Import necessary libraries\n",
        "import cv2\n",
        "import numpy as np\n",
        "from keras.preprocessing import image\n",
        "from tensorflow.keras.utils import to_categorical\n",
        "from sklearn.preprocessing import LabelBinarizer\n",
        "from sklearn.model_selection import train_test_split\n",
        "\n",
        "img_rows, img_cols = 112, 112\n",
        "\n",
        "images = []\n",
        "labels = []\n",
        "\n",
        "for category in Data_Dir:\n",
        "  folder_path = os.path.join(Dataset, category)\n",
        "  for img in os.listdir(folder_path):\n",
        "    img_path = os.path.join(folder_path, img)\n",
        "    \n",
        "    img = cv2.imread(img_path)\n",
        "    try:\n",
        "      grayscale_img = cv2.cvtColor(img,cv2.COLOR_BGR2GRAY)\n",
        "\n",
        "      resized_img = cv2.resize(grayscale_img,(img_rows, img_cols))\n",
        "      images.append(resized_img)\n",
        "      labels.append(category)\n",
        "      \n",
        "    except Exception as e:\n",
        "      print('Exception:',e)\n",
        "\n",
        "images = np.array(images)/255.0\n",
        "images = np.reshape(images,(images.shape[0],img_rows, img_cols,1))\n",
        "\n",
        "lb = LabelBinarizer()\n",
        "labels = lb.fit_transform(labels)\n",
        "labels = to_categorical(labels)\n",
        "labels = np.array(labels)\n",
        "\n",
        "(train_X, test_X, train_y, test_y) = train_test_split(images, labels, test_size=0.25, random_state=0)\n",
        "\n"
      ],
      "execution_count": null,
      "outputs": [
        {
          "output_type": "error",
          "ename": "NameError",
          "evalue": "ignored",
          "traceback": [
            "\u001b[0;31m---------------------------------------------------------------------------\u001b[0m",
            "\u001b[0;31mNameError\u001b[0m                                 Traceback (most recent call last)",
            "\u001b[0;32m<ipython-input-1-0250847a9a83>\u001b[0m in \u001b[0;36m<module>\u001b[0;34m()\u001b[0m\n\u001b[1;32m     12\u001b[0m \u001b[0mlabels\u001b[0m \u001b[0;34m=\u001b[0m \u001b[0;34m[\u001b[0m\u001b[0;34m]\u001b[0m\u001b[0;34m\u001b[0m\u001b[0;34m\u001b[0m\u001b[0m\n\u001b[1;32m     13\u001b[0m \u001b[0;34m\u001b[0m\u001b[0m\n\u001b[0;32m---> 14\u001b[0;31m \u001b[0;32mfor\u001b[0m \u001b[0mcategory\u001b[0m \u001b[0;32min\u001b[0m \u001b[0mData_Dir\u001b[0m\u001b[0;34m:\u001b[0m\u001b[0;34m\u001b[0m\u001b[0;34m\u001b[0m\u001b[0m\n\u001b[0m\u001b[1;32m     15\u001b[0m   \u001b[0mfolder_path\u001b[0m \u001b[0;34m=\u001b[0m \u001b[0mos\u001b[0m\u001b[0;34m.\u001b[0m\u001b[0mpath\u001b[0m\u001b[0;34m.\u001b[0m\u001b[0mjoin\u001b[0m\u001b[0;34m(\u001b[0m\u001b[0mDataset\u001b[0m\u001b[0;34m,\u001b[0m \u001b[0mcategory\u001b[0m\u001b[0;34m)\u001b[0m\u001b[0;34m\u001b[0m\u001b[0;34m\u001b[0m\u001b[0m\n\u001b[1;32m     16\u001b[0m   \u001b[0;32mfor\u001b[0m \u001b[0mimg\u001b[0m \u001b[0;32min\u001b[0m \u001b[0mos\u001b[0m\u001b[0;34m.\u001b[0m\u001b[0mlistdir\u001b[0m\u001b[0;34m(\u001b[0m\u001b[0mfolder_path\u001b[0m\u001b[0;34m)\u001b[0m\u001b[0;34m:\u001b[0m\u001b[0;34m\u001b[0m\u001b[0;34m\u001b[0m\u001b[0m\n",
            "\u001b[0;31mNameError\u001b[0m: name 'Data_Dir' is not defined"
          ]
        }
      ]
    },
    {
      "cell_type": "markdown",
      "metadata": {
        "id": "t79xGV5CI3uo"
      },
      "source": [
        "# Build Convolutional Neural Network (CNN)"
      ]
    },
    {
      "cell_type": "code",
      "metadata": {
        "colab": {
          "base_uri": "https://localhost:8080/"
        },
        "id": "dnPo1h62JCS9",
        "outputId": "2b6a56af-9971-41fb-c8af-03060e82a48b"
      },
      "source": [
        "#import necessary library\n",
        "\n",
        "from keras.models import Sequential\n",
        "from keras.layers import Dense,Activation,Flatten,Dropout\n",
        "from keras.layers import Conv2D,MaxPooling2D\n",
        "\n",
        "#define model parameters\n",
        "num_classes = 2\n",
        "batch_size = 32\n",
        "\n",
        "# Build CNN model using sequential API\n",
        "model=Sequential()\n",
        "\n",
        "# First layer group containing Convolution, relu and MaxPooling layers\n",
        "model.add(Conv2D(64,(3,3),input_shape=(img_rows, img_cols,1)))\n",
        "model.add(Activation('relu'))\n",
        "model.add(MaxPooling2D(pool_size=(2,2))) \n",
        "\n",
        "\n",
        "# Second layer group containing Convolution, relu and MaxPooling layers\n",
        "\n",
        "model.add(Conv2D(128,(3,3)))\n",
        "model.add(Activation('relu'))\n",
        "model.add(MaxPooling2D(pool_size=(2,2))) \n",
        "\n",
        "# Flatten and Dropout Layer to stack the output convolutions above as well as cateroverfitting\n",
        "model.add(Flatten())\n",
        "model.add(Dropout(0.5))\n",
        "\n",
        "#Softmax Classifier\n",
        "model.add(Dense(64,activation='relu'))\n",
        "model.add(Dense(num_classes,activation='softmax'))\n",
        "\n",
        "print(model.summary())\n",
        "\n"
      ],
      "execution_count": null,
      "outputs": [
        {
          "output_type": "stream",
          "text": [
            "Model: \"sequential\"\n",
            "_________________________________________________________________\n",
            "Layer (type)                 Output Shape              Param #   \n",
            "=================================================================\n",
            "conv2d (Conv2D)              (None, 110, 110, 64)      640       \n",
            "_________________________________________________________________\n",
            "activation (Activation)      (None, 110, 110, 64)      0         \n",
            "_________________________________________________________________\n",
            "max_pooling2d (MaxPooling2D) (None, 55, 55, 64)        0         \n",
            "_________________________________________________________________\n",
            "conv2d_1 (Conv2D)            (None, 53, 53, 128)       73856     \n",
            "_________________________________________________________________\n",
            "activation_1 (Activation)    (None, 53, 53, 128)       0         \n",
            "_________________________________________________________________\n",
            "max_pooling2d_1 (MaxPooling2 (None, 26, 26, 128)       0         \n",
            "_________________________________________________________________\n",
            "flatten (Flatten)            (None, 86528)             0         \n",
            "_________________________________________________________________\n",
            "dropout (Dropout)            (None, 86528)             0         \n",
            "_________________________________________________________________\n",
            "dense (Dense)                (None, 64)                5537856   \n",
            "_________________________________________________________________\n",
            "dense_1 (Dense)              (None, 2)                 130       \n",
            "=================================================================\n",
            "Total params: 5,612,482\n",
            "Trainable params: 5,612,482\n",
            "Non-trainable params: 0\n",
            "_________________________________________________________________\n",
            "None\n"
          ],
          "name": "stdout"
        }
      ]
    },
    {
      "cell_type": "markdown",
      "metadata": {
        "id": "FJZQHrkSlN_X"
      },
      "source": [
        "# Training the Model"
      ]
    },
    {
      "cell_type": "code",
      "metadata": {
        "colab": {
          "base_uri": "https://localhost:8080/"
        },
        "id": "M9HdMHBylT1A",
        "outputId": "c833e8cd-88a8-4244-88f8-a6ec70b67170"
      },
      "source": [
        "from keras.optimizers import Adam\n",
        "epochs = 50\n",
        "model.compile(loss='categorical_crossentropy',\n",
        "              optimizer = Adam(lr=0.001),\n",
        "              metrics = ['accuracy'])\n",
        "fitted_model = model.fit(\n",
        "    train_X,\n",
        "    train_y,\n",
        "    epochs = epochs,\n",
        "    validation_split=0.25)\n"
      ],
      "execution_count": null,
      "outputs": [
        {
          "output_type": "stream",
          "text": [
            "/usr/local/lib/python3.7/dist-packages/tensorflow/python/keras/optimizer_v2/optimizer_v2.py:375: UserWarning: The `lr` argument is deprecated, use `learning_rate` instead.\n",
            "  \"The `lr` argument is deprecated, use `learning_rate` instead.\")\n"
          ],
          "name": "stderr"
        },
        {
          "output_type": "stream",
          "text": [
            "Epoch 1/50\n",
            "133/133 [==============================] - 48s 34ms/step - loss: 0.7543 - accuracy: 0.5825 - val_loss: 0.5566 - val_accuracy: 0.7041\n",
            "Epoch 2/50\n",
            "133/133 [==============================] - 4s 27ms/step - loss: 0.4859 - accuracy: 0.7697 - val_loss: 0.3887 - val_accuracy: 0.8326\n",
            "Epoch 3/50\n",
            "133/133 [==============================] - 4s 28ms/step - loss: 0.3336 - accuracy: 0.8461 - val_loss: 0.3764 - val_accuracy: 0.8432\n",
            "Epoch 4/50\n",
            "133/133 [==============================] - 4s 27ms/step - loss: 0.2780 - accuracy: 0.8751 - val_loss: 0.3018 - val_accuracy: 0.8814\n",
            "Epoch 5/50\n",
            "133/133 [==============================] - 4s 27ms/step - loss: 0.2075 - accuracy: 0.9200 - val_loss: 0.3013 - val_accuracy: 0.8771\n",
            "Epoch 6/50\n",
            "133/133 [==============================] - 4s 27ms/step - loss: 0.1886 - accuracy: 0.9260 - val_loss: 0.3066 - val_accuracy: 0.8905\n",
            "Epoch 7/50\n",
            "133/133 [==============================] - 4s 27ms/step - loss: 0.1614 - accuracy: 0.9384 - val_loss: 0.2957 - val_accuracy: 0.8927\n",
            "Epoch 8/50\n",
            "133/133 [==============================] - 4s 27ms/step - loss: 0.1096 - accuracy: 0.9583 - val_loss: 0.3184 - val_accuracy: 0.8934\n",
            "Epoch 9/50\n",
            "133/133 [==============================] - 4s 27ms/step - loss: 0.1186 - accuracy: 0.9549 - val_loss: 0.3364 - val_accuracy: 0.8785\n",
            "Epoch 10/50\n",
            "133/133 [==============================] - 4s 27ms/step - loss: 0.0779 - accuracy: 0.9735 - val_loss: 0.3439 - val_accuracy: 0.8927\n",
            "Epoch 11/50\n",
            "133/133 [==============================] - 4s 27ms/step - loss: 0.0573 - accuracy: 0.9805 - val_loss: 0.3556 - val_accuracy: 0.9011\n",
            "Epoch 12/50\n",
            "133/133 [==============================] - 4s 27ms/step - loss: 0.0561 - accuracy: 0.9791 - val_loss: 0.3625 - val_accuracy: 0.8919\n",
            "Epoch 13/50\n",
            "133/133 [==============================] - 4s 27ms/step - loss: 0.0455 - accuracy: 0.9822 - val_loss: 0.4634 - val_accuracy: 0.8814\n",
            "Epoch 14/50\n",
            "133/133 [==============================] - 4s 27ms/step - loss: 0.0535 - accuracy: 0.9781 - val_loss: 0.4122 - val_accuracy: 0.8955\n",
            "Epoch 15/50\n",
            "133/133 [==============================] - 4s 27ms/step - loss: 0.0364 - accuracy: 0.9889 - val_loss: 0.4200 - val_accuracy: 0.8962\n",
            "Epoch 16/50\n",
            "133/133 [==============================] - 4s 27ms/step - loss: 0.0478 - accuracy: 0.9822 - val_loss: 0.4056 - val_accuracy: 0.9032\n",
            "Epoch 17/50\n",
            "133/133 [==============================] - 4s 27ms/step - loss: 0.0302 - accuracy: 0.9908 - val_loss: 0.3917 - val_accuracy: 0.8969\n",
            "Epoch 18/50\n",
            "133/133 [==============================] - 4s 28ms/step - loss: 0.0292 - accuracy: 0.9926 - val_loss: 0.4231 - val_accuracy: 0.9089\n",
            "Epoch 19/50\n",
            "133/133 [==============================] - 4s 27ms/step - loss: 0.0215 - accuracy: 0.9919 - val_loss: 0.4556 - val_accuracy: 0.8990\n",
            "Epoch 20/50\n",
            "133/133 [==============================] - 4s 27ms/step - loss: 0.0221 - accuracy: 0.9925 - val_loss: 0.4387 - val_accuracy: 0.8976\n",
            "Epoch 21/50\n",
            "133/133 [==============================] - 4s 27ms/step - loss: 0.0205 - accuracy: 0.9940 - val_loss: 0.4021 - val_accuracy: 0.9011\n",
            "Epoch 22/50\n",
            "133/133 [==============================] - 4s 27ms/step - loss: 0.0308 - accuracy: 0.9895 - val_loss: 0.4092 - val_accuracy: 0.8969\n",
            "Epoch 23/50\n",
            "133/133 [==============================] - 4s 27ms/step - loss: 0.0254 - accuracy: 0.9923 - val_loss: 0.4491 - val_accuracy: 0.9018\n",
            "Epoch 24/50\n",
            "133/133 [==============================] - 4s 27ms/step - loss: 0.0143 - accuracy: 0.9955 - val_loss: 0.4238 - val_accuracy: 0.8955\n",
            "Epoch 25/50\n",
            "133/133 [==============================] - 4s 27ms/step - loss: 0.0111 - accuracy: 0.9974 - val_loss: 0.4746 - val_accuracy: 0.9040\n",
            "Epoch 26/50\n",
            "133/133 [==============================] - 4s 27ms/step - loss: 0.0034 - accuracy: 0.9998 - val_loss: 0.5875 - val_accuracy: 0.9032\n",
            "Epoch 27/50\n",
            "133/133 [==============================] - 4s 27ms/step - loss: 0.0292 - accuracy: 0.9893 - val_loss: 0.4569 - val_accuracy: 0.8997\n",
            "Epoch 28/50\n",
            "133/133 [==============================] - 4s 27ms/step - loss: 0.0174 - accuracy: 0.9939 - val_loss: 0.4886 - val_accuracy: 0.8976\n",
            "Epoch 29/50\n",
            "133/133 [==============================] - 4s 27ms/step - loss: 0.0127 - accuracy: 0.9969 - val_loss: 0.4330 - val_accuracy: 0.8997\n",
            "Epoch 30/50\n",
            "133/133 [==============================] - 4s 27ms/step - loss: 0.0177 - accuracy: 0.9931 - val_loss: 0.5953 - val_accuracy: 0.8828\n",
            "Epoch 31/50\n",
            "133/133 [==============================] - 4s 27ms/step - loss: 0.0107 - accuracy: 0.9960 - val_loss: 0.5320 - val_accuracy: 0.8969\n",
            "Epoch 32/50\n",
            "133/133 [==============================] - 4s 27ms/step - loss: 0.0137 - accuracy: 0.9952 - val_loss: 0.4814 - val_accuracy: 0.8969\n",
            "Epoch 33/50\n",
            "133/133 [==============================] - 4s 27ms/step - loss: 0.0150 - accuracy: 0.9952 - val_loss: 0.5858 - val_accuracy: 0.8969\n",
            "Epoch 34/50\n",
            "133/133 [==============================] - 4s 28ms/step - loss: 0.0131 - accuracy: 0.9950 - val_loss: 0.6508 - val_accuracy: 0.8955\n",
            "Epoch 35/50\n",
            "133/133 [==============================] - 4s 27ms/step - loss: 0.0050 - accuracy: 0.9994 - val_loss: 0.5139 - val_accuracy: 0.9040\n",
            "Epoch 36/50\n",
            "133/133 [==============================] - 4s 27ms/step - loss: 0.0114 - accuracy: 0.9961 - val_loss: 0.5364 - val_accuracy: 0.9032\n",
            "Epoch 37/50\n",
            "133/133 [==============================] - 4s 29ms/step - loss: 0.0097 - accuracy: 0.9974 - val_loss: 0.5414 - val_accuracy: 0.9032\n",
            "Epoch 38/50\n",
            "133/133 [==============================] - 4s 27ms/step - loss: 0.0189 - accuracy: 0.9951 - val_loss: 0.5411 - val_accuracy: 0.8927\n",
            "Epoch 39/50\n",
            "133/133 [==============================] - 4s 27ms/step - loss: 0.0330 - accuracy: 0.9856 - val_loss: 0.5759 - val_accuracy: 0.8948\n",
            "Epoch 40/50\n",
            "133/133 [==============================] - 4s 27ms/step - loss: 0.0163 - accuracy: 0.9952 - val_loss: 0.5623 - val_accuracy: 0.9040\n",
            "Epoch 41/50\n",
            "133/133 [==============================] - 4s 27ms/step - loss: 0.0098 - accuracy: 0.9971 - val_loss: 0.5386 - val_accuracy: 0.8983\n",
            "Epoch 42/50\n",
            "133/133 [==============================] - 4s 27ms/step - loss: 0.0146 - accuracy: 0.9964 - val_loss: 0.5526 - val_accuracy: 0.8990\n",
            "Epoch 43/50\n",
            "133/133 [==============================] - 4s 27ms/step - loss: 0.0051 - accuracy: 0.9985 - val_loss: 0.5965 - val_accuracy: 0.8997\n",
            "Epoch 44/50\n",
            "133/133 [==============================] - 4s 27ms/step - loss: 0.0113 - accuracy: 0.9952 - val_loss: 0.5360 - val_accuracy: 0.8919\n",
            "Epoch 45/50\n",
            "133/133 [==============================] - 4s 27ms/step - loss: 0.0029 - accuracy: 0.9994 - val_loss: 0.5569 - val_accuracy: 0.9054\n",
            "Epoch 46/50\n",
            "133/133 [==============================] - 4s 27ms/step - loss: 0.0020 - accuracy: 0.9997 - val_loss: 0.6193 - val_accuracy: 0.9082\n",
            "Epoch 47/50\n",
            "133/133 [==============================] - 4s 27ms/step - loss: 0.0029 - accuracy: 0.9993 - val_loss: 0.5870 - val_accuracy: 0.9068\n",
            "Epoch 48/50\n",
            "133/133 [==============================] - 4s 27ms/step - loss: 0.0113 - accuracy: 0.9965 - val_loss: 0.4613 - val_accuracy: 0.8912\n",
            "Epoch 49/50\n",
            "133/133 [==============================] - 4s 27ms/step - loss: 0.0140 - accuracy: 0.9974 - val_loss: 0.5914 - val_accuracy: 0.9040\n",
            "Epoch 50/50\n",
            "133/133 [==============================] - 4s 27ms/step - loss: 0.0124 - accuracy: 0.9973 - val_loss: 0.5140 - val_accuracy: 0.8997\n"
          ],
          "name": "stdout"
        }
      ]
    },
    {
      "cell_type": "markdown",
      "metadata": {
        "id": "aOERI0wrpQkR"
      },
      "source": [
        "## Plot the training loss accuracy"
      ]
    },
    {
      "cell_type": "code",
      "metadata": {
        "colab": {
          "base_uri": "https://localhost:8080/",
          "height": 541
        },
        "id": "iCvakVvZpVo8",
        "outputId": "78e348db-acff-4998-ed53-0087e616c8bd"
      },
      "source": [
        "from matplotlib import pyplot as plt\n",
        "# PLOT TRAINING AND VALIDATION LOSS\n",
        "plt.plot(fitted_model.history['loss'],'r',label='Training loss')\n",
        "plt.plot(fitted_model.history['val_loss'],label='Validation loss')\n",
        "plt.xlabel('Number of Epochs')\n",
        "plt.ylabel('Loss Value')\n",
        "plt.legend()\n",
        "plt.show()\n",
        "\n",
        "# PLOT TRAINING AND  VALIDATION ACCURACY\n",
        "plt.plot(fitted_model.history['accuracy'],'r',label='Training accuracy')\n",
        "plt.plot(fitted_model.history['val_accuracy'],label='Validation accuracy')\n",
        "plt.xlabel('Number of Epochs')\n",
        "plt.ylabel('Accuracy Value')\n",
        "plt.legend()\n",
        "plt.show()"
      ],
      "execution_count": null,
      "outputs": [
        {
          "output_type": "display_data",
          "data": {
            "image/png": "[encoded data removed]",
            "text/plain": [
              "<Figure size 432x288 with 1 Axes>"
            ]
          },
          "metadata": {
            "tags": [],
            "needs_background": "light"
          }
        },
        {
          "output_type": "display_data",
          "data": {
            "image/png": "[encoded data removed]",
            "text/plain": [
              "<Figure size 432x288 with 1 Axes>"
            ]
          },
          "metadata": {
            "tags": [],
            "needs_background": "light"
          }
        }
      ]
    },
    {
      "cell_type": "markdown",
      "metadata": {
        "id": "KUOoVdymsc1M"
      },
      "source": [
        "## Save or Serialized the Model"
      ]
    },
    {
      "cell_type": "code",
      "metadata": {
        "id": "gOJjFP2nshzO"
      },
      "source": [
        "model.save('Face_mask_detection_system.h5')"
      ],
      "execution_count": null,
      "outputs": []
    }
  ]
}